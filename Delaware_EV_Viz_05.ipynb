{
  "nbformat": 4,
  "nbformat_minor": 0,
  "metadata": {
    "colab": {
      "name": "Delaware_EV_Viz_05.ipynb",
      "provenance": [],
      "collapsed_sections": []
    },
    "kernelspec": {
      "name": "python3",
      "display_name": "Python 3"
    },
    "language_info": {
      "name": "python"
    }
  },
  "cells": [
    {
      "cell_type": "markdown",
      "source": [
        "# Instructions (To Use Interactive Map Dashboard)\n",
        "\n",
        "1. Run All Cells\n",
        " - In the Runtime control tab above\n",
        "(4th from the right: File Edit View Runtime)\n",
        " - Select the first option: \"Run All\"\n",
        " - This will download the data and generate an interactive map.\n",
        "\n",
        "2. Select What Items you want in your hover-over labels:\n",
        " - add or remove a \"#\" in the list of Graph Labels.\n",
        " - items with a \"#\" in front of them will NOT appear\n",
        "\n",
        "3. Explore the Map\n",
        " - At the bottom of this 'Notebook' (scroll down) you will find a map that you can zoom into and hover over the dots to see the info you selected.\n"
      ],
      "metadata": {
        "id": "CFi6Mp2gIa8U"
      }
    },
    {
      "cell_type": "markdown",
      "source": [
        "#### Resource Links and Library Docs\n",
        "https://plotly.com/python/mapbox-layers/\n",
        "\n",
        "https://stackoverflow.com/questions/61918943/python-plotly-scatter-geo-modify-hover-data#61919448\n",
        "\n",
        "\n"
      ],
      "metadata": {
        "id": "Rl630-JCfscB"
      }
    },
    {
      "cell_type": "markdown",
      "source": [
        "# Setup"
      ],
      "metadata": {
        "id": "0ba5yqhiAesQ"
      }
    },
    {
      "cell_type": "code",
      "source": [
        "# Download the data-file:\n",
        "!wget \"https://raw.githubusercontent.com/lineality/visualize_EV_charge_locations_python_notebook/main/DE_ev_2022_03__v1.csv\""
      ],
      "metadata": {
        "colab": {
          "base_uri": "https://localhost:8080/"
        },
        "id": "3XcT15cCAPcO",
        "outputId": "bca057e2-9394-4a56-e08b-09162659e02c"
      },
      "execution_count": 2,
      "outputs": [
        {
          "output_type": "stream",
          "name": "stdout",
          "text": [
            "--2022-04-06 17:07:18--  https://raw.githubusercontent.com/lineality/visualize_EV_charge_locations_python_notebook/main/DE_ev_2022_03__v1.csv\n",
            "Resolving raw.githubusercontent.com (raw.githubusercontent.com)... 185.199.108.133, 185.199.109.133, 185.199.110.133, ...\n",
            "Connecting to raw.githubusercontent.com (raw.githubusercontent.com)|185.199.108.133|:443... connected.\n",
            "HTTP request sent, awaiting response... 200 OK\n",
            "Length: 48915 (48K) [text/plain]\n",
            "Saving to: ‘DE_ev_2022_03__v1.csv’\n",
            "\n",
            "\rDE_ev_2022_03__v1.c   0%[                    ]       0  --.-KB/s               \rDE_ev_2022_03__v1.c 100%[===================>]  47.77K  --.-KB/s    in 0.006s  \n",
            "\n",
            "2022-04-06 17:07:18 (7.88 MB/s) - ‘DE_ev_2022_03__v1.csv’ saved [48915/48915]\n",
            "\n"
          ]
        }
      ]
    },
    {
      "cell_type": "code",
      "source": [
        "# Inspection: downloaded file should appear in list of files in current working directory\n",
        "!ls"
      ],
      "metadata": {
        "colab": {
          "base_uri": "https://localhost:8080/"
        },
        "id": "AYYvVbtsAYuC",
        "outputId": "8d74c8ee-7dd4-48e6-ef40-61b17fb56e5a"
      },
      "execution_count": 9,
      "outputs": [
        {
          "output_type": "stream",
          "name": "stdout",
          "text": [
            "DE_ev_2022_03__v1.csv  sample_data\n"
          ]
        }
      ]
    },
    {
      "cell_type": "code",
      "execution_count": 4,
      "metadata": {
        "id": "SMIpV_0C_zAU"
      },
      "outputs": [],
      "source": [
        "# Load Libraries\n",
        "import pandas as pd\n",
        "import plotly.express as px"
      ]
    },
    {
      "cell_type": "code",
      "source": [
        "# Load Data Set\n",
        "df = pd.read_csv(\"DE_ev_2022_03__v1.csv\")"
      ],
      "metadata": {
        "id": "xoNG7E32AdxB"
      },
      "execution_count": 5,
      "outputs": []
    },
    {
      "cell_type": "code",
      "source": [
        "# Replace NaN with \"None\"\n",
        "df = df.where(pd.notnull(df), \"N/A or None\")"
      ],
      "metadata": {
        "id": "7tkS_UVZmBOm"
      },
      "execution_count": 6,
      "outputs": []
    },
    {
      "cell_type": "markdown",
      "source": [
        "# Graph Labels"
      ],
      "metadata": {
        "id": "oL2hurZTAzJA"
      }
    },
    {
      "cell_type": "code",
      "source": [
        "hover_over_labels = { \n",
        "            'Fuel Type Code' : True, \n",
        "            'Station Name' : True, \n",
        "            'Street Address' : True, \n",
        "#             'Intersection Directions' : True, \n",
        "#             'City' : True, \n",
        "#             'State' : True, \n",
        "#             'ZIP' : True, \n",
        "#             'Plus4' : True, \n",
        "#             'Station Phone' : True, \n",
        "#             'Status Code' : True, \n",
        "            'Expected Date' : True, \n",
        "#             'Groups With Access Code' : True, \n",
        "#             'Access Days Time' : True, \n",
        "#             'Cards Accepted' : True,  \n",
        "#             'BD Blends' : True, \n",
        "#             'NG Fill Type Code' : True, \n",
        "#             'NG PSI' : True, \n",
        "            'EV Level1 EVSE Num' : True,  \n",
        "            'EV Level2 EVSE Num' : True, \n",
        "            'EV DC Fast Count' : True, \n",
        "            'EV Other Info' : True, \n",
        "            'EV Network' : True, \n",
        "            'EV Network Web' : True, \n",
        "#             'Geocode Status' : True, \n",
        "            'Latitude' : True, \n",
        "            'Longitude' : True, \n",
        "#             'Date Last Confirmed' : True, \n",
        "#             'ID' : True, \n",
        "#             'Updated At' : True, \n",
        "#             'Owner Type Code' : True, \n",
        "#             'Federal Agency ID' : True, \n",
        "#             'Federal Agency Name' : True, \n",
        "#             'Open Date' : True, \n",
        "#             'Hydrogen Status Link' : True, \n",
        "#             'NG Vehicle Class' : True, \n",
        "#             'LPG Primary' : True, \n",
        "#             'E85 Blender Pump' : True, \n",
        "            'EV Connector Types' : True, \n",
        "#             'Country' : True, \n",
        "#             'Intersection Directions (French)' : True, \n",
        "#             'Access Days Time (French)' : True, \n",
        "#             'BD Blends (French)' : True, \n",
        "#             'Groups With Access Code (French)' : True, \n",
        "#             'Hydrogen Is Retail' : True, \n",
        "#             'Access Code' : True, \n",
        "#             'Access Detail Code' : True, \n",
        "#             'Federal Agency Code' : True, \n",
        "#             'Facility Type' : True, \n",
        "#             'CNG Dispenser Num' : True, \n",
        "#             'CNG On-Site Renewable Source' : True, \n",
        "#             'CNG Total Compression Capacity' : True, \n",
        "#             'CNG Storage Capacity' : True, \n",
        "#             'LNG On-Site Renewable Source' : True, \n",
        "#             'E85 Other Ethanol Blends' : True, \n",
        "            'EV Pricing' : True, \n",
        "            'EV Pricing (French)' : True, \n",
        "#             'LPG Nozzle Types' : True, \n",
        "#             'Hydrogen Pressures' : True, \n",
        "#             'Hydrogen Standards' : True, \n",
        "#             'CNG Fill Type Code' : True, \n",
        "#             'CNG PSI' : True, \n",
        "#             'CNG Vehicle Class' : True, \n",
        "#             'LNG Vehicle Class' : True, \n",
        "            'EV On-Site Renewable Source' : True, \n",
        "            'Restricted Access': True, \n",
        "                   }"
      ],
      "metadata": {
        "id": "ZiLoHwsrGkIu"
      },
      "execution_count": 7,
      "outputs": []
    },
    {
      "cell_type": "markdown",
      "source": [
        "# Viz: using \"Map Box\" + \"Open Street map\"\n",
        "\n",
        "## (Mouse Scroll on Map to zoom in)\n",
        "\n",
        "#### You can change items such as Map_Height and dot color (\"color_discrete_sequence\").\n"
      ],
      "metadata": {
        "id": "pXNLoTNBfVdx"
      }
    },
    {
      "cell_type": "code",
      "source": [
        "# import pandas as pd\n",
        "# import plotly.express as px\n",
        "# Load df! (see above)\n",
        "\n",
        "# Set Map Height\n",
        "Map_Height = 800\n",
        "\n",
        "# Make Figure (fig), with hover data from \"hover_over_labels\" above\n",
        "fig = px.scatter_mapbox(df, \n",
        "                        lat='Latitude', \n",
        "                        lon='Longitude', \n",
        "                        hover_data=hover_over_labels,\n",
        "                        color_discrete_sequence=[\"fuchsia\"], \n",
        "                        zoom=3, \n",
        "                        height=Map_Height)\n",
        "\n",
        "# Add in Streets from \"open-street-map\"\n",
        "fig.update_layout(mapbox_style=\"open-street-map\")\n",
        "fig.update_layout(margin={\"r\":0,\"t\":0,\"l\":0,\"b\":0})\n",
        "\n",
        "# print map\n",
        "fig.show()"
      ],
      "metadata": {
        "colab": {
          "base_uri": "https://localhost:8080/",
          "height": 817
        },
        "id": "eSTt4SEFfZAp",
        "outputId": "eeb6efa8-01e5-421e-f96c-e4cb74d660e5"
      },
      "execution_count": 8,
      "outputs": [
        {
          "output_type": "display_data",
          "data": {
            "text/html": [
              "<html>\n",
              "<head><meta charset=\"utf-8\" /></head>\n",
              "<body>\n",
              "    <div>            <script src=\"https://cdnjs.cloudflare.com/ajax/libs/mathjax/2.7.5/MathJax.js?config=TeX-AMS-MML_SVG\"></script><script type=\"text/javascript\">if (window.MathJax) {MathJax.Hub.Config({SVG: {font: \"STIX-Web\"}});}</script>                <script type=\"text/javascript\">window.PlotlyConfig = {MathJaxConfig: 'local'};</script>\n",
              "        <script src=\"https://cdn.plot.ly/plotly-2.8.3.min.js\"></script>                <div id=\"09e76700-5fc7-456b-88c5-64e9b393b47f\" class=\"plotly-graph-div\" style=\"height:800px; width:100%;\"></div>            <script type=\"text/javascript\">                                    window.PLOTLYENV=window.PLOTLYENV || {};                                    if (document.getElementById(\"09e76700-5fc7-456b-88c5-64e9b393b47f\")) {                    Plotly.newPlot(                        \"09e76700-5fc7-456b-88c5-64e9b393b47f\",                        [{\"customdata\":[[\"ELEC\",\"Hertrich Nissan JP-Eagle\",\"1378 S Dupont Hwy\",\"N/A or None\",\"N/A or None\",1.0,\"N/A or None\",\"N/A or None\",\"Non-Networked\",\"N/A or None\",39.136284,-75.527155,\"J1772\",\"Free\",\"N/A or None\",\"N/A or None\",\"N/A or None\"],[\"ELEC\",\"Sheridan Nissan\",\"114 S Dupont Hwy\",\"N/A or None\",\"N/A or None\",3.0,1.0,\"N/A or None\",\"Non-Networked\",\"N/A or None\",39.663533,-75.605014,\"CHADEMO J1772 J1772COMBO\",\"Free\",\"N/A or None\",\"N/A or None\",\"N/A or None\"],[\"ELEC\",\"Sheridan Nissan\",\"114 S Dupont Hwy\",\"N/A or None\",\"N/A or None\",1.0,\"N/A or None\",\"N/A or None\",\"Non-Networked\",\"N/A or None\",39.663533,-75.605014,\"J1772\",\"Free\",\"N/A or None\",\"N/A or None\",\"N/A or None\"],[\"ELEC\",\"Porter Nissan\",\"300 E Cleveland Ave\",\"N/A or None\",\"N/A or None\",1.0,1.0,\"N/A or None\",\"Non-Networked\",\"N/A or None\",39.687222,-75.740488,\"CHADEMO J1772\",\"Free\",\"N/A or None\",\"N/A or None\",\"N/A or None\"],[\"ELEC\",\"Porter Nissan\",\"300 E Cleveland Ave\",\"N/A or None\",\"N/A or None\",1.0,\"N/A or None\",\"N/A or None\",\"Non-Networked\",\"N/A or None\",39.687222,-75.740488,\"J1772\",\"Free\",\"N/A or None\",\"N/A or None\",\"N/A or None\"],[\"ELEC\",\"DTCC TERRY BUILDING 400\",\"Scarborough Rd\",\"N/A or None\",\"N/A or None\",2.0,\"N/A or None\",\"N/A or None\",\"ChargePoint Network\",\"http://www.chargepoint.com/\",39.197334,-75.560005,\"J1772\",\"N/A or None\",\"N/A or None\",\"N/A or None\",\"N/A or None\"],[\"ELEC\",\"Blue Water House Bed & Breakfast\",\"407 E Market St\",\"N/A or None\",2.0,\"N/A or None\",\"N/A or None\",\"N/A or None\",\"Non-Networked\",\"N/A or None\",38.77933,-75.1355,\"NEMA520\",\"Free\",\"N/A or None\",\"N/A or None\",\"N/A or None\"],[\"ELEC\",\"Willis Ford\",\"15 N Dupont Blvd\",\"N/A or None\",\"N/A or None\",2.0,\"N/A or None\",\"N/A or None\",\"Non-Networked\",\"N/A or None\",39.302963,-75.604857,\"J1772\",\"Free\",\"N/A or None\",\"N/A or None\",\"N/A or None\"],[\"ELEC\",\"Delaware Welcome Center and Travel Plaza\",\"530 John F Kennedy Memorial Hwy\",\"N/A or None\",\"N/A or None\",2.0,\"N/A or None\",\"N/A or None\",\"Non-Networked\",\"N/A or None\",39.660766,-75.69348611,\"J1772\",\"Free\",\"N/A or None\",\"N/A or None\",\"N/A or None\"],[\"ELEC\",\"Cape May - Lewes Ferry Terminal\",\"43 Cape Henlopen Dr\",\"N/A or None\",\"N/A or None\",2.0,\"N/A or None\",\"N/A or None\",\"Non-Networked\",\"N/A or None\",38.782012,-75.118769,\"J1772\",\"Free\",\"N/A or None\",\"N/A or None\",\"N/A or None\"],[\"ELEC\",\"REHOBOTH REH 1 - EV 1\",\"34980 Midway Outlet Dr\",\"N/A or None\",\"N/A or None\",2.0,\"N/A or None\",\"N/A or None\",\"ChargePoint Network\",\"http://www.chargepoint.com/\",38.734828,-75.139183,\"J1772\",\"N/A or None\",\"N/A or None\",\"N/A or None\",\"N/A or None\"],[\"ELEC\",\"REHOBOTH REH 3 EV 1\",\"36461 Seaside Outlet Dr\",\"N/A or None\",\"N/A or None\",2.0,\"N/A or None\",\"N/A or None\",\"ChargePoint Network\",\"http://www.chargepoint.com/\",38.71841,-75.112641,\"J1772\",\"N/A or None\",\"N/A or None\",\"N/A or None\",\"N/A or None\"],[\"ELEC\",\"Smyrna Rest Area\",\"5500 DuPont Pkwy\",\"N/A or None\",\"N/A or None\",2.0,\"N/A or None\",\"N/A or None\",\"Non-Networked\",\"N/A or None\",39.322658,-75.618039,\"J1772\",\"Free\",\"N/A or None\",\"N/A or None\",\"N/A or None\"],[\"ELEC\",\"REHOBOTH REH2 EV 1\",\"19744-19798 DE-1\",\"N/A or None\",\"N/A or None\",2.0,\"N/A or None\",\"N/A or None\",\"ChargePoint Network\",\"http://www.chargepoint.com/\",38.715697,-75.109848,\"J1772\",\"N/A or None\",\"N/A or None\",\"N/A or None\",\"N/A or None\"],[\"ELEC\",\"Royal Farms - Bridgeville\",\"18657 Sussex Hwy\",\"N/A or None\",\"N/A or None\",2.0,\"N/A or None\",\"N/A or None\",\"Non-Networked\",\"N/A or None\",38.72345833,-75.58873611,\"J1772\",\"Free\",\"N/A or None\",\"N/A or None\",\"N/A or None\"],[\"ELEC\",\"PMHS HOMEWOOD INN\",\"640 S College Ave\",\"N/A or None\",\"N/A or None\",\"N/A or None\",1.0,\"N/A or None\",\"ChargePoint Network\",\"http://www.chargepoint.com/\",39.659548,-75.753745,\"J1772COMBO\",\"N/A or None\",\"N/A or None\",\"N/A or None\",\"N/A or None\"],[\"ELEC\",\"ROYAL FARMS RFS 139 DC #1\",\"6 W Lebanon Rd\",\"N/A or None\",\"N/A or None\",\"N/A or None\",1.0,\"N/A or None\",\"ChargePoint Network\",\"http://www.chargepoint.com/\",39.117778,-75.51617,\"CHADEMO J1772COMBO\",\"N/A or None\",\"N/A or None\",\"N/A or None\",\"N/A or None\"],[\"ELEC\",\"ROYAL FARMS RFS 142 DC #1\",\"108 Silicato Parkway\",\"N/A or None\",\"N/A or None\",\"N/A or None\",1.0,\"N/A or None\",\"ChargePoint Network\",\"http://www.chargepoint.com/\",38.927247,-75.417979,\"CHADEMO J1772COMBO\",\"N/A or None\",\"N/A or None\",\"N/A or None\",\"N/A or None\"],[\"ELEC\",\"ROYAL FARMS RFS 158 DC #2\",\"20579 Dupont Blvd\",\"N/A or None\",\"N/A or None\",\"N/A or None\",1.0,\"N/A or None\",\"ChargePoint Network\",\"http://www.chargepoint.com/\",38.699176,-75.400529,\"CHADEMO J1772COMBO\",\"N/A or None\",\"N/A or None\",\"N/A or None\",\"N/A or None\"],[\"ELEC\",\"ROYAL FARMS RFS 171 DC #2\",\"11112 Laurel Road\",\"N/A or None\",\"N/A or None\",\"N/A or None\",1.0,\"N/A or None\",\"ChargePoint Network\",\"http://www.chargepoint.com/\",38.554795,-75.555085,\"CHADEMO J1772COMBO\",\"N/A or None\",\"N/A or None\",\"N/A or None\",\"N/A or None\"],[\"ELEC\",\"ROYAL FARMS RFS 146 DC #2\",\"304 N DuPont Blvd\",\"N/A or None\",\"N/A or None\",\"N/A or None\",1.0,\"N/A or None\",\"ChargePoint Network\",\"http://www.chargepoint.com/\",39.306611,-75.606279,\"CHADEMO J1772COMBO\",\"N/A or None\",\"N/A or None\",\"N/A or None\",\"N/A or None\"],[\"ELEC\",\"Otis Smith Park\",\"454 E Savannah Rd\",\"N/A or None\",\"N/A or None\",1.0,\"N/A or None\",\"N/A or None\",\"Non-Networked\",\"N/A or None\",38.778332,-75.134887,\"J1772\",\"N/A or None\",\"N/A or None\",\"N/A or None\",\"N/A or None\"],[\"ELEC\",\"City of Lewes - Public Parking\",\"225 Schley Ave\",\"N/A or None\",\"N/A or None\",1.0,\"N/A or None\",\"N/A or None\",\"Non-Networked\",\"N/A or None\",38.77143,-75.137003,\"J1772\",\"Free\",\"N/A or None\",\"N/A or None\",\"N/A or None\"],[\"ELEC\",\"Holts Landing State Park\",\"26909 Holts Landing Rd\",\"N/A or None\",\"N/A or None\",1.0,\"N/A or None\",\"N/A or None\",\"Non-Networked\",\"N/A or None\",38.59069615,-75.12804594,\"J1772\",\"Free\",\"N/A or None\",\"N/A or None\",\"N/A or None\"],[\"ELEC\",\"Bellevue State Park\",\"800 Carr Rd\",\"N/A or None\",\"N/A or None\",1.0,\"N/A or None\",\"N/A or None\",\"Non-Networked\",\"N/A or None\",39.77709476,-75.49636646,\"J1772\",\"Free; must pay park entrance fee\",\"N/A or None\",\"N/A or None\",\"N/A or None\"],[\"ELEC\",\"Wawa - Tesla Supercharger\",\"17663 Dartmouth Drive\",\"N/A or None\",\"N/A or None\",\"N/A or None\",8.0,\"N/A or None\",\"Tesla\",\"https://www.tesla.com/supercharger\",38.74431,-75.153308,\"TESLA\",\"$0.28 per kWh; $0.26 per minute above 60 kW and $0.13 per minute at or below 60 kW\",\"N/A or None\",\"N/A or None\",\"N/A or None\"],[\"ELEC\",\"Newark, DE - Tesla Supercharger\",\"530 John F Kennedy Memorial Hwy\",\"N/A or None\",\"N/A or None\",\"N/A or None\",12.0,\"N/A or None\",\"Tesla\",\"https://www.tesla.com/supercharger\",39.663509,-75.690168,\"TESLA\",\"$0.28 per kWh; $0.26 per minute above 60 kW and $0.13 per minute at or below 60 kW\",\"N/A or None\",\"N/A or None\",\"N/A or None\"],[\"ELEC\",\"Hyatt Place Dewey Beach - Tesla Destination\",\"1301 Coastal Hwy\",\"N/A or None\",\"N/A or None\",2.0,\"N/A or None\",\"N/A or None\",\"Tesla Destination\",\"https://www.tesla.com/destination-charging\",38.688936,-75.074622,\"TESLA\",\"Free\",\"N/A or None\",\"N/A or None\",\"N/A or None\"],[\"ELEC\",\"Lewes City Parking Lot - Tesla Destination\",\"225 Schley Ave\",\"N/A or None\",\"N/A or None\",1.0,\"N/A or None\",\"N/A or None\",\"Tesla Destination\",\"https://www.tesla.com/destination-charging\",38.77143,-75.137003,\"TESLA\",\"Free\",\"N/A or None\",\"N/A or None\",\"N/A or None\"],[\"ELEC\",\"Otis Smith Park - Tesla Destination\",\"454 E Savannah Rd\",\"N/A or None\",\"N/A or None\",1.0,\"N/A or None\",\"N/A or None\",\"Tesla Destination\",\"https://www.tesla.com/destination-charging\",38.777089,-75.136507,\"TESLA\",\"Free\",\"N/A or None\",\"N/A or None\",\"N/A or None\"],[\"ELEC\",\"DogFish Head Brewery - Tesla Destination\",\"6 Cannery Village Center\",\"N/A or None\",\"N/A or None\",3.0,\"N/A or None\",\"N/A or None\",\"Tesla Destination\",\"https://www.tesla.com/destination-charging\",38.767283,-75.313513,\"J1772 TESLA\",\"Free\",\"N/A or None\",\"N/A or None\",\"N/A or None\"],[\"ELEC\",\"The Bellmoor Inn & Spa, a Select Registry Property - Tesla Destination\",\"6 Christian St\",\"N/A or None\",\"N/A or None\",2.0,\"N/A or None\",\"N/A or None\",\"Tesla Destination\",\"https://www.tesla.com/destination-charging\",38.714651,-75.082394,\"J1772 TESLA\",\"Free\",\"N/A or None\",\"N/A or None\",\"N/A or None\"],[\"ELEC\",\"Wawa - Tesla Supercharger\",\"2800 North Dupont Highway\",\"N/A or None\",\"N/A or None\",\"N/A or None\",8.0,\"N/A or None\",\"Tesla\",\"https://www.tesla.com/supercharger\",39.195256,-75.54727,\"TESLA\",\"$0.28 per kWh; $0.26 per minute above 60 kW and $0.13 per minute at or below 60 kW\",\"N/A or None\",\"N/A or None\",\"N/A or None\"],[\"ELEC\",\"Newark Train Station\",\"10 Mopar Dr\",\"N/A or None\",\"N/A or None\",10.0,\"N/A or None\",\"N/A or None\",\"Non-Networked\",\"N/A or None\",39.669949,-75.753275,\"J1772\",\"N/A or None\",\"N/A or None\",\"N/A or None\",\"N/A or None\"],[\"ELEC\",\"Wawa - Tesla Supercharger\",\"605 Naamans Road\",\"N/A or None\",\"N/A or None\",\"N/A or None\",8.0,\"N/A or None\",\"Tesla\",\"https://www.tesla.com/supercharger\",39.817478,-75.457259,\"TESLA\",\"$0.28 per kWh; $0.26 per minute above 60 kW and $0.13 per minute at or below 60 kW\",\"N/A or None\",\"N/A or None\",\"N/A or None\"],[\"ELEC\",\"Bellefonte Brewing Co - Tesla Destination\",\"3605 Old Capitol Trl C8\",\"N/A or None\",\"N/A or None\",2.0,\"N/A or None\",\"N/A or None\",\"Tesla Destination\",\"https://www.tesla.com/destination-charging\",39.73022,-75.633325,\"TESLA\",\"Free\",\"N/A or None\",\"N/A or None\",\"N/A or None\"],[\"ELEC\",\"Bank of America - 1000 Samoset Dr\",\"900 Samoset Dr\",\"N/A or None\",\"N/A or None\",2.0,\"N/A or None\",\"N/A or None\",\"Non-Networked\",\"N/A or None\",39.683873,-75.675077,\"J1772\",\"N/A or None\",\"N/A or None\",\"N/A or None\",\"N/A or None\"],[\"ELEC\",\"Bank of America - Deerfield\",\"655 Paper Mill Rd\",\"N/A or None\",\"N/A or None\",2.0,\"N/A or None\",\"N/A or None\",\"Non-Networked\",\"N/A or None\",39.714204,-75.74402,\"J1772\",\"N/A or None\",\"N/A or None\",\"N/A or None\",\"N/A or None\"],[\"ELEC\",\"DUNCAN CENTER DSEU 1\",\"21 Jerusalem Way\",\"N/A or None\",\"N/A or None\",2.0,\"N/A or None\",\"N/A or None\",\"ChargePoint Network\",\"http://www.chargepoint.com/\",39.156331,-75.531106,\"J1772\",\"N/A or None\",\"N/A or None\",\"N/A or None\",\"N/A or None\"],[\"ELEC\",\"Christiana Care Health System\",\"4755 Ogletown Stanton Road\",\"N/A or None\",\"N/A or None\",6.0,\"N/A or None\",\"N/A or None\",\"SemaCharge Network\",\"https://semaconnect.com/\",39.6878859,-75.668995,\"J1772\",\"FREE\",\"N/A or None\",\"N/A or None\",\"N/A or None\"],[\"ELEC\",\"DNREC Charging Station\",\"130 West Water Street\",\"N/A or None\",\"N/A or None\",2.0,\"N/A or None\",\"N/A or None\",\"SemaCharge Network\",\"https://semaconnect.com/\",39.1541941,-75.5256442,\"J1772\",\"FREE\",\"N/A or None\",\"N/A or None\",\"N/A or None\"],[\"ELEC\",\"Garlow Inn\",\"82 Sussex Street\",\"N/A or None\",\"N/A or None\",1.0,\"N/A or None\",\"N/A or None\",\"SemaCharge Network\",\"https://semaconnect.com/\",38.715967,-75.088252,\"J1772\",\"FREE\",\"N/A or None\",\"N/A or None\",\"N/A or None\"],[\"ELEC\",\"Rise Up Coffee Rehoboth - Tesla Destination\",\"502  Rehoboth Ave\",\"N/A or None\",\"N/A or None\",2.0,\"N/A or None\",\"N/A or None\",\"Tesla Destination\",\"https://www.tesla.com/destination-charging\",38.714461,-75.091011,\"TESLA\",\"Free\",\"N/A or None\",\"N/A or None\",\"N/A or None\"],[\"ELEC\",\"Bellevue Main Lot\",\"800 Carr Road\",\"N/A or None\",\"N/A or None\",1.0,\"N/A or None\",\"N/A or None\",\"SemaCharge Network\",\"https://semaconnect.com/\",39.7812114,-75.5023969,\"J1772\",\"FREE\",\"N/A or None\",\"N/A or None\",\"N/A or None\"],[\"ELEC\",\"Holts Landing State Park\",\"39415 Inlet Road\",\"N/A or None\",\"N/A or None\",1.0,\"N/A or None\",\"N/A or None\",\"SemaCharge Network\",\"https://semaconnect.com/\",38.6128174,-75.0716849,\"J1772\",\"FREE\",\"N/A or None\",\"N/A or None\",\"N/A or None\"],[\"ELEC\",\"Indian River Marina\",\"39415 Inlet Road\",\"N/A or None\",\"N/A or None\",1.0,\"N/A or None\",\"N/A or None\",\"SemaCharge Network\",\"https://semaconnect.com/\",38.6128174,-75.0716849,\"J1772\",\"FREE\",\"N/A or None\",\"N/A or None\",\"N/A or None\"],[\"ELEC\",\"Rodney Square\",\"1000 N King St\",\"N/A or None\",\"N/A or None\",2.0,\"N/A or None\",\"N/A or None\",\"Non-Networked\",\"N/A or None\",39.745531,-75.546151,\"J1772\",\"N/A or None\",\"N/A or None\",\"N/A or None\",\"N/A or None\"],[\"ELEC\",\"Porter Chevrolet\",\"414 E Cleveland Ave\",\"N/A or None\",\"N/A or None\",1.0,\"N/A or None\",\"N/A or None\",\"Non-Networked\",\"N/A or None\",39.686796,-75.737198,\"J1772\",\"N/A or None\",\"N/A or None\",\"N/A or None\",\"N/A or None\"],[\"ELEC\",\"Audi Wilmington\",\"1300 N Union St\",\"N/A or None\",\"N/A or None\",3.0,\"N/A or None\",\"N/A or None\",\"Blink Network\",\"http://www.blinkcharging.com/\",39.757177,-75.567219,\"J1772\",\"Level 2: $0.03 per 30 seconds\",\"N/A or None\",\"N/A or None\",\"N/A or None\"],[\"ELEC\",\"Greenhill Car Wash\",\"890 Middletown Warwick Rd\",\"N/A or None\",\"N/A or None\",2.0,\"N/A or None\",\"N/A or None\",\"SemaCharge Network\",\"https://semaconnect.com/\",39.4381161,-75.7512876,\"J1772\",\"$0.00-$1.00/Hr Variable Parking Fee\",\"N/A or None\",\"N/A or None\",\"N/A or None\"],[\"ELEC\",\"WAWA Store 840 - New Castle, DE\",\"4000 N. DuPont Hwy\",\"N/A or None\",\"N/A or None\",\"N/A or None\",6.0,\"N/A or None\",\"Electrify America\",\"https://www.electrifyamerica.com/\",39.709324,-75.562649,\"CHADEMO J1772COMBO\",\"N/A or None\",\"N/A or None\",\"N/A or None\",\"N/A or None\"],[\"ELEC\",\"Christiana Mall - Nordstrom\",\"132 Christiana Mall\",\"N/A or None\",\"N/A or None\",4.0,\"N/A or None\",\"N/A or None\",\"Volta\",\"https://voltacharging.com/\",39.680982,-75.65261,\"J1772\",\"N/A or None\",\"N/A or None\",\"N/A or None\",\"N/A or None\"],[\"ELEC\",\"Christiana Mall - Urban Outfitters\",\"132 Christiana Mall\",\"N/A or None\",\"N/A or None\",4.0,\"N/A or None\",\"N/A or None\",\"Volta\",\"https://voltacharging.com/\",39.679779,-75.651662,\"J1772\",\"N/A or None\",\"N/A or None\",\"N/A or None\",\"N/A or None\"],[\"ELEC\",\"Christiana Mall - Barnes & Noble\",\"132 Christiana Mall\",\"N/A or None\",\"N/A or None\",2.0,\"N/A or None\",\"N/A or None\",\"Volta\",\"https://voltacharging.com/\",39.679419,-75.651206,\"J1772\",\"N/A or None\",\"N/A or None\",\"N/A or None\",\"N/A or None\"],[\"ELEC\",\"Giant Food - Millsboro\",\"25939 John J Williams Hwy\",\"N/A or None\",\"N/A or None\",2.0,\"N/A or None\",\"N/A or None\",\"Volta\",\"https://voltacharging.com/\",38.630925,-75.193739,\"J1772\",\"N/A or None\",\"N/A or None\",\"N/A or None\",\"N/A or None\"],[\"ELEC\",\"Delaware Technical Community College\",\"100 Campus Drive\",\"N/A or None\",\"N/A or None\",2.0,\"N/A or None\",\"N/A or None\",\"Blink Network\",\"http://www.blinkcharging.com/\",39.197341,-75.559991,\"J1772\",\"Free\",\"N/A or None\",\"N/A or None\",\"N/A or None\"],[\"ELEC\",\"Wawa - Tesla Supercharger\",\"2621 Philadelphia Pike\",\"N/A or None\",\"N/A or None\",\"N/A or None\",8.0,\"N/A or None\",\"Tesla\",\"https://www.tesla.com/supercharger\",39.794553,-75.469448,\"TESLA\",\"$0.28 per kWh; $0.26 per minute above 60 kW and $0.13 per minute at or below 60 kW\",\"N/A or None\",\"N/A or None\",\"N/A or None\"],[\"ELEC\",\"Bethany Beach Training Center\",\"163 Scannell Blvd\",\"N/A or None\",\"N/A or None\",2.0,\"N/A or None\",\"N/A or None\",\"SemaCharge Network\",\"https://semaconnect.com/\",38.5460507,-75.0609093,\"J1772\",\"FREE\",\"N/A or None\",\"N/A or None\",\"N/A or None\"],[\"ELEC\",\"ABESSINIO LLC STADIUM #3\",\"1 St Rocco Way\",\"N/A or None\",\"N/A or None\",2.0,\"N/A or None\",\"N/A or None\",\"ChargePoint Network\",\"http://www.chargepoint.com/\",39.760311,-75.553089,\"J1772\",\"N/A or None\",\"N/A or None\",\"N/A or None\",\"N/A or None\"],[\"ELEC\",\"Smyrna Readiness Center\",\"210 Artisan Drive\",\"N/A or None\",\"N/A or None\",2.0,\"N/A or None\",\"N/A or None\",\"SemaCharge Network\",\"https://semaconnect.com/\",39.2814691,-75.6221863,\"J1772\",\"FREE\",\"N/A or None\",\"N/A or None\",\"N/A or None\"],[\"ELEC\",\"Wawa - Tesla Supercharger\",\"30155 Veterans Way\",\"N/A or None\",\"N/A or None\",\"N/A or None\",8.0,\"N/A or None\",\"Tesla\",\"https://www.tesla.com/supercharger\",38.712616,-75.103793,\"TESLA\",\"$0.28 per kWh; $0.26 per minute above 60 kW and $0.13 per minute at or below 60 kW\",\"N/A or None\",\"N/A or None\",\"N/A or None\"],[\"ELEC\",\"ROYAL FARMS RFS 158 DC #1\",\"20579 DuPont Blvd\",\"N/A or None\",\"N/A or None\",\"N/A or None\",1.0,\"N/A or None\",\"ChargePoint Network\",\"http://www.chargepoint.com/\",38.699191,-75.400527,\"CHADEMO J1772COMBO\",\"N/A or None\",\"N/A or None\",\"N/A or None\",\"N/A or None\"],[\"ELEC\",\"REHOBOTH REH 2 EV2\",\"19744-19798 DE-1\",\"N/A or None\",\"N/A or None\",2.0,\"N/A or None\",\"N/A or None\",\"ChargePoint Network\",\"http://www.chargepoint.com/\",38.715639,-75.109891,\"J1772\",\"N/A or None\",\"N/A or None\",\"N/A or None\",\"N/A or None\"],[\"ELEC\",\"REHOBOTH REH 3 EV 2\",\"36461 Seaside Outlet Dr\",\"N/A or None\",\"N/A or None\",2.0,\"N/A or None\",\"N/A or None\",\"ChargePoint Network\",\"http://www.chargepoint.com/\",38.718437,-75.112636,\"J1772\",\"N/A or None\",\"N/A or None\",\"N/A or None\",\"N/A or None\"],[\"ELEC\",\"REHOBOTH REH 1 EV 2\",\"34980 Midway Outlet Dr\",\"N/A or None\",\"N/A or None\",2.0,\"N/A or None\",\"N/A or None\",\"ChargePoint Network\",\"http://www.chargepoint.com/\",38.734782,-75.139228,\"J1772\",\"N/A or None\",\"N/A or None\",\"N/A or None\",\"N/A or None\"],[\"ELEC\",\"ROYAL FARMS RFS 139 DC #2\",\"6 W Lebanon Rd\",\"N/A or None\",\"N/A or None\",\"N/A or None\",1.0,\"N/A or None\",\"ChargePoint Network\",\"http://www.chargepoint.com/\",39.117777,-75.516134,\"CHADEMO J1772COMBO\",\"N/A or None\",\"N/A or None\",\"N/A or None\",\"N/A or None\"],[\"ELEC\",\"ROYAL FARMS RFS 171 DC #1\",\"11112 Laurel Road\",\"N/A or None\",\"N/A or None\",\"N/A or None\",1.0,\"N/A or None\",\"ChargePoint Network\",\"http://www.chargepoint.com/\",38.554796,-75.555058,\"CHADEMO J1772COMBO\",\"N/A or None\",\"N/A or None\",\"N/A or None\",\"N/A or None\"],[\"ELEC\",\"ROYAL FARMS RFS 142 DC #2\",\"108 Silicato Parkway\",\"N/A or None\",\"N/A or None\",\"N/A or None\",1.0,\"N/A or None\",\"ChargePoint Network\",\"http://www.chargepoint.com/\",38.927238,-75.417969,\"CHADEMO J1772COMBO\",\"N/A or None\",\"N/A or None\",\"N/A or None\",\"N/A or None\"],[\"ELEC\",\"ROYAL FARMS RFS 146 DC #1\",\"304 N DuPont Blvd\",\"N/A or None\",\"N/A or None\",\"N/A or None\",1.0,\"N/A or None\",\"ChargePoint Network\",\"http://www.chargepoint.com/\",39.306624,-75.606253,\"CHADEMO J1772COMBO\",\"N/A or None\",\"N/A or None\",\"N/A or None\",\"N/A or None\"],[\"ELEC\",\"ABESSINIO LLC STADIUM #1\",\"1 St Rocco Way\",\"N/A or None\",\"N/A or None\",2.0,\"N/A or None\",\"N/A or None\",\"ChargePoint Network\",\"http://www.chargepoint.com/\",39.760418,-75.553153,\"J1772\",\"N/A or None\",\"N/A or None\",\"N/A or None\",\"N/A or None\"],[\"ELEC\",\"ABESSINIO LLC STADIUM #2\",\"1 St Rocco Way\",\"N/A or None\",\"N/A or None\",2.0,\"N/A or None\",\"N/A or None\",\"ChargePoint Network\",\"http://www.chargepoint.com/\",39.760344,-75.553159,\"J1772\",\"N/A or None\",\"N/A or None\",\"N/A or None\",\"N/A or None\"],[\"ELEC\",\"ROMMEL SMYRNA\",\"450 Stadium St\",\"N/A or None\",\"N/A or None\",\"N/A or None\",1.0,\"N/A or None\",\"ChargePoint Network\",\"http://www.chargepoint.com/\",39.278042,-75.587482,\"J1772COMBO\",\"N/A or None\",\"N/A or None\",\"N/A or None\",\"N/A or None\"],[\"ELEC\",\"SEMAConnect\",\"163 Scannell Blvd\",\"N/A or None\",\"N/A or None\",2.0,\"N/A or None\",\"N/A or None\",\"Non-Networked\",\"N/A or None\",38.546051,-75.060909,\"J1772\",\"N/A or None\",\"N/A or None\",\"N/A or None\",\"N/A or None\"],[\"ELEC\",\"SEMAConnect\",\"1 Vavala Way\",\"N/A or None\",\"N/A or None\",2.0,\"N/A or None\",\"N/A or None\",\"Non-Networked\",\"N/A or None\",39.683249,-75.617612,\"J1772\",\"N/A or None\",\"N/A or None\",\"N/A or None\",\"N/A or None\"],[\"ELEC\",\"Beach Plum Dunes\",\"36916 Crooked Hammock Way\",\"N/A or None\",\"N/A or None\",4.0,\"N/A or None\",\"N/A or None\",\"SemaCharge Network\",\"https://semaconnect.com/\",38.7452862,-75.1493848,\"J1772\",\"$2.00/Hr Parking Fee\",\"N/A or None\",\"N/A or None\",\"N/A or None\"],[\"ELEC\",\"Lutheran Church of Our Savior\",\"20276 Bay Vista Road\",\"N/A or None\",\"N/A or None\",2.0,\"N/A or None\",\"N/A or None\",\"SemaCharge Network\",\"https://semaconnect.com/\",38.709294,-75.0977516,\"J1772\",\"$1.00/Hr Parking Fee , $0.20/kWh Energy Fee\",\"N/A or None\",\"N/A or None\",\"N/A or None\"],[\"ELEC\",\"Wawa - Tesla Supercharger\",\"5018 Summit Bridge Road\",\"N/A or None\",\"N/A or None\",\"N/A or None\",8.0,\"N/A or None\",\"Tesla\",\"https://www.tesla.com/supercharger\",39.479708,-75.720734,\"TESLA\",\"$0.28 per kWh; $0.26 per minute above 60 kW and $0.13 per minute at or below 60 kW\",\"N/A or None\",\"N/A or None\",\"N/A or None\"],[\"ELEC\",\"WILMINGTON HOSP LEVEL 2 UNIT 1\",\"1200 Washington St\",\"N/A or None\",\"N/A or None\",2.0,\"N/A or None\",\"N/A or None\",\"ChargePoint Network\",\"http://www.chargepoint.com/\",39.750062,-75.550017,\"J1772\",\"N/A or None\",\"N/A or None\",\"N/A or None\",\"N/A or None\"],[\"ELEC\",\"WILMINGTON HOSP LEVEL 3 UNIT 2\",\"1200 Washington St\",\"N/A or None\",\"N/A or None\",2.0,\"N/A or None\",\"N/A or None\",\"ChargePoint Network\",\"http://www.chargepoint.com/\",39.750195,-75.549941,\"J1772\",\"N/A or None\",\"N/A or None\",\"N/A or None\",\"N/A or None\"],[\"ELEC\",\"WILMINGTON HOSP LEVEL 4 UNIT 1\",\"1200 Washington St\",\"N/A or None\",\"N/A or None\",2.0,\"N/A or None\",\"N/A or None\",\"ChargePoint Network\",\"http://www.chargepoint.com/\",39.750132,-75.550067,\"J1772\",\"N/A or None\",\"N/A or None\",\"N/A or None\",\"N/A or None\"],[\"ELEC\",\"WILMINGTON HOSP LEVEL 3 UNIT 3\",\"Washington St @ 13th St\",\"N/A or None\",\"N/A or None\",2.0,\"N/A or None\",\"N/A or None\",\"ChargePoint Network\",\"http://www.chargepoint.com/\",39.750097,-75.550194,\"J1772\",\"N/A or None\",\"N/A or None\",\"N/A or None\",\"N/A or None\"],[\"ELEC\",\"WILMINGTON HOSP LEVEL 6 UNIT 1\",\"1200 Washington St\",\"N/A or None\",\"N/A or None\",2.0,\"N/A or None\",\"N/A or None\",\"ChargePoint Network\",\"http://www.chargepoint.com/\",39.750106,-75.550145,\"J1772\",\"N/A or None\",\"N/A or None\",\"N/A or None\",\"N/A or None\"],[\"ELEC\",\"WILMINGTON HOSP LEVEL 6 UNIT 2\",\"1200 Washington St\",\"N/A or None\",\"N/A or None\",2.0,\"N/A or None\",\"N/A or None\",\"ChargePoint Network\",\"http://www.chargepoint.com/\",39.750097,-75.550046,\"J1772\",\"N/A or None\",\"N/A or None\",\"N/A or None\",\"N/A or None\"],[\"ELEC\",\"WILMINGTON HOSP LEVEL 3 UNIT 1\",\"1200 Washington St\",\"N/A or None\",\"N/A or None\",2.0,\"N/A or None\",\"N/A or None\",\"ChargePoint Network\",\"http://www.chargepoint.com/\",39.750208,-75.550117,\"J1772\",\"N/A or None\",\"N/A or None\",\"N/A or None\",\"N/A or None\"],[\"ELEC\",\"WILMINGTON HOSP LEVEL 5 UNIT 2\",\"1200 Washington St\",\"N/A or None\",\"N/A or None\",2.0,\"N/A or None\",\"N/A or None\",\"ChargePoint Network\",\"http://www.chargepoint.com/\",39.750072,-75.55009,\"J1772\",\"N/A or None\",\"N/A or None\",\"N/A or None\",\"N/A or None\"],[\"ELEC\",\"WILMINGTON HOSP LEVEL 5 UNIT 1\",\"1200 Washington St\",\"N/A or None\",\"N/A or None\",2.0,\"N/A or None\",\"N/A or None\",\"ChargePoint Network\",\"http://www.chargepoint.com/\",39.750184,-75.550231,\"J1772\",\"N/A or None\",\"N/A or None\",\"N/A or None\",\"N/A or None\"],[\"ELEC\",\"WILMINGTON HOSP LEVEL 5 UNIT 3\",\"1200 Washington St\",\"N/A or None\",\"N/A or None\",2.0,\"N/A or None\",\"N/A or None\",\"ChargePoint Network\",\"http://www.chargepoint.com/\",39.750203,-75.5501,\"J1772\",\"N/A or None\",\"N/A or None\",\"N/A or None\",\"N/A or None\"],[\"ELEC\",\"DE TRANSIT CORP 2CC STATION 2\",\"101 West St\",\"N/A or None\",\"N/A or None\",2.0,\"N/A or None\",\"N/A or None\",\"ChargePoint Network\",\"http://www.chargepoint.com/\",39.738536,-75.557733,\"J1772\",\"N/A or None\",\"N/A or None\",\"N/A or None\",\"N/A or None\"],[\"ELEC\",\"DE TRANSIT CORP 2CC STATION 1\",\"101 West St\",\"N/A or None\",\"N/A or None\",2.0,\"N/A or None\",\"N/A or None\",\"ChargePoint Network\",\"http://www.chargepoint.com/\",39.738454,-75.55765,\"J1772\",\"N/A or None\",\"N/A or None\",\"N/A or None\",\"N/A or None\"],[\"ELEC\",\"DE TRANSIT CORP LEWES TRANSIT 1\",\"17644 Coastal Hwy\",\"N/A or None\",\"N/A or None\",2.0,\"N/A or None\",\"N/A or None\",\"ChargePoint Network\",\"http://www.chargepoint.com/\",38.747838,-75.169207,\"J1772\",\"N/A or None\",\"N/A or None\",\"N/A or None\",\"N/A or None\"],[\"ELEC\",\"DE TRANSIT CORP NEWARK RAIL\",\"468 S College Ave\",\"N/A or None\",\"N/A or None\",2.0,\"N/A or None\",\"N/A or None\",\"ChargePoint Network\",\"http://www.chargepoint.com/\",39.669728,-75.753251,\"J1772\",\"N/A or None\",\"N/A or None\",\"N/A or None\",\"N/A or None\"],[\"ELEC\",\"DE TRANSIT CORP LEWES TRANSIT 2\",\"17644 Coastal Hwy\",\"N/A or None\",\"N/A or None\",2.0,\"N/A or None\",\"N/A or None\",\"ChargePoint Network\",\"http://www.chargepoint.com/\",38.747845,-75.16918,\"J1772\",\"N/A or None\",\"N/A or None\",\"N/A or None\",\"N/A or None\"],[\"ELEC\",\"DE TRANSIT CORP NEWARK RAIL 3\",\"468 S College Ave\",\"N/A or None\",\"N/A or None\",2.0,\"N/A or None\",\"N/A or None\",\"ChargePoint Network\",\"http://www.chargepoint.com/\",39.669657,-75.753234,\"J1772\",\"N/A or None\",\"N/A or None\",\"N/A or None\",\"N/A or None\"],[\"ELEC\",\"DE TRANSIT CORP NEWARK RAIL 4\",\"468 S College Ave\",\"N/A or None\",\"N/A or None\",2.0,\"N/A or None\",\"N/A or None\",\"ChargePoint Network\",\"http://www.chargepoint.com/\",39.669532,-75.753194,\"J1772\",\"N/A or None\",\"N/A or None\",\"N/A or None\",\"N/A or None\"],[\"ELEC\",\"DE TRANSIT CORP NEWARK RAIL 5\",\"468 S College Ave\",\"N/A or None\",\"N/A or None\",2.0,\"N/A or None\",\"N/A or None\",\"ChargePoint Network\",\"http://www.chargepoint.com/\",39.669536,-75.753155,\"J1772\",\"N/A or None\",\"N/A or None\",\"N/A or None\",\"N/A or None\"],[\"ELEC\",\"DE TRANSIT CORP NEWARK RAIL 2\",\"468 S College Ave\",\"N/A or None\",\"N/A or None\",2.0,\"N/A or None\",\"N/A or None\",\"ChargePoint Network\",\"http://www.chargepoint.com/\",39.669665,-75.753186,\"J1772\",\"N/A or None\",\"N/A or None\",\"N/A or None\",\"N/A or None\"],[\"ELEC\",\"DE TRANSIT CORP RPD 2\",\"100 South French St\",\"N/A or None\",\"N/A or None\",2.0,\"N/A or None\",\"N/A or None\",\"ChargePoint Network\",\"http://www.chargepoint.com/\",39.73692,-75.55211,\"J1772\",\"N/A or None\",\"N/A or None\",\"N/A or None\",\"N/A or None\"],[\"ELEC\",\"CONVENT CENTER CONVENTION #2\",\"123 2nd St\",\"N/A or None\",\"N/A or None\",2.0,\"N/A or None\",\"N/A or None\",\"ChargePoint Network\",\"http://www.chargepoint.com/\",38.716843,-75.08242,\"J1772\",\"N/A or None\",\"N/A or None\",\"N/A or None\",\"N/A or None\"],[\"ELEC\",\"CONVENT CENTER CONVENTION #1\",\"105 2nd St\",\"N/A or None\",\"N/A or None\",2.0,\"N/A or None\",\"N/A or None\",\"ChargePoint Network\",\"http://www.chargepoint.com/\",38.716904,-75.082466,\"J1772\",\"N/A or None\",\"N/A or None\",\"N/A or None\",\"N/A or None\"],[\"ELEC\",\"0055-27W3RD#6LOC\",\"27 West 3rd Street\",\"N/A or None\",\"N/A or None\",1.0,\"N/A or None\",\"N/A or None\",\"SemaCharge Network\",\"https://semaconnect.com/\",39.6589839,-75.564986,\"J1772\",\"$0.30/kWh Energy Fee\",\"N/A or None\",\"N/A or None\",\"N/A or None\"],[\"ELEC\",\"Sandpiper Plaza\",\"18949 Coastal Highway\",\"N/A or None\",\"N/A or None\",2.0,\"N/A or None\",\"N/A or None\",\"SemaCharge Network\",\"https://semaconnect.com/\",38.7308284,-75.1316891,\"J1772\",\"$2.00/Hr Parking Fee\",\"N/A or None\",\"N/A or None\",\"N/A or None\"],[\"ELEC\",\"DE TRANSIT CORP RPD 1\",\"100 South French St\",\"N/A or None\",\"N/A or None\",2.0,\"N/A or None\",\"N/A or None\",\"ChargePoint Network\",\"http://www.chargepoint.com/\",39.736901,-75.552094,\"J1772\",\"N/A or None\",\"N/A or None\",\"N/A or None\",\"N/A or None\"],[\"ELEC\",\"DE TRANSIT CORP MILFORD PNR 2\",\"DE-1\",\"N/A or None\",\"N/A or None\",2.0,\"N/A or None\",\"N/A or None\",\"ChargePoint Network\",\"http://www.chargepoint.com/\",38.991536,-75.44968,\"J1772\",\"N/A or None\",\"N/A or None\",\"N/A or None\",\"N/A or None\"],[\"ELEC\",\"DE TRANSIT CORP MILFORD PNR 1\",\"DE-1\",\"N/A or None\",\"N/A or None\",2.0,\"N/A or None\",\"N/A or None\",\"ChargePoint Network\",\"http://www.chargepoint.com/\",38.991578,-75.449733,\"J1772\",\"N/A or None\",\"N/A or None\",\"N/A or None\",\"N/A or None\"],[\"ELEC\",\"Christiana Mall - Cheesecake Factory\",\"132 Christiana Mall\",\"N/A or None\",\"N/A or None\",\"N/A or None\",1.0,\"N/A or None\",\"Volta\",\"https://voltacharging.com/\",39.67913115,-75.65083685,\"J1772COMBO\",\"FREE for first 30 minutes\",\"N/A or None\",\"N/A or None\",\"N/A or None\"],[\"ELEC\",\"Biden NG/RC\",\"1 Vavala Way\",\"N/A or None\",\"N/A or None\",4.0,\"N/A or None\",\"N/A or None\",\"SemaCharge Network\",\"https://semaconnect.com/\",39.68322968,-75.61769485,\"J1772\",\"FREE\",\"N/A or None\",\"N/A or None\",\"N/A or None\"],[\"ELEC\",\"Delaware Army Aviation Support Facility\",\"33 Corporate Circle\",\"N/A or None\",\"N/A or None\",2.0,\"N/A or None\",\"N/A or None\",\"SemaCharge Network\",\"https://semaconnect.com/\",39.6827039,-75.6156265,\"J1772\",\"FREE\",\"N/A or None\",\"N/A or None\",\"N/A or None\"],[\"ELEC\",\"5600 Concord\",\"5600 Concord Pike\",\"N/A or None\",\"N/A or None\",2.0,\"N/A or None\",\"N/A or None\",\"SemaCharge Network\",\"https://semaconnect.com/\",39.8344052,-75.5435914,\"J1772\",\"$0.00-$2.00/Hr Variable Parking Fee\",\"N/A or None\",\"N/A or None\",\"N/A or None\"],[\"ELEC\",\"Brandywine Hundred Library\",\"1300 Foulk Road\",\"N/A or None\",\"N/A or None\",2.0,\"N/A or None\",\"N/A or None\",\"SemaCharge Network\",\"https://semaconnect.com/\",39.7955835,-75.5244855,\"J1772\",\"FREE\",\"N/A or None\",\"N/A or None\",\"N/A or None\"],[\"ELEC\",\"The Avenue Inn\",\"33 Wilmington Avenue\",\"N/A or None\",\"N/A or None\",1.0,\"N/A or None\",\"N/A or None\",\"SemaCharge Network\",\"https://semaconnect.com/\",38.7158098,-75.0793025,\"J1772\",\"FREE\",\"N/A or None\",\"N/A or None\",\"N/A or None\"],[\"ELEC\",\"0055-27W3RD#5LOC\",\"27 West 3rd Street\",\"N/A or None\",\"N/A or None\",1.0,\"N/A or None\",\"N/A or None\",\"SemaCharge Network\",\"https://semaconnect.com/\",39.6589839,-75.564986,\"J1772\",\"$0.30/kWh Energy Fee\",\"N/A or None\",\"N/A or None\",\"N/A or None\"],[\"ELEC\",\"WILMINGTON HOSP LEVEL 4 UNIT 3\",\"1200 Washington St\",\"N/A or None\",\"N/A or None\",2.0,\"N/A or None\",\"N/A or None\",\"ChargePoint Network\",\"http://www.chargepoint.com/\",39.750193,-75.550063,\"J1772\",\"N/A or None\",\"N/A or None\",\"N/A or None\",\"N/A or None\"],[\"ELEC\",\"Wawa - Tesla Supercharger\",\"4000 North Dupont Highway\",\"N/A or None\",\"N/A or None\",\"N/A or None\",8.0,\"N/A or None\",\"Tesla\",\"https://www.tesla.com/supercharger\",39.70988,-75.56193,\"TESLA\",\"$0.28 per kWh; $0.26 per minute above 60 kW and $0.13 per minute at or below 60 kW\",\"N/A or None\",\"N/A or None\",\"N/A or None\"],[\"ELEC\",\"Wilmington\",\"N/A or None\",\"N/A or None\",3.0,\"N/A or None\",\"N/A or None\",\"N/A or None\",\"Non-Networked\",\"N/A or None\",39.744655,-75.548391,\"NEMA1450\",\"N/A or None\",\"N/A or None\",\"N/A or None\",\"N/A or None\"],[\"ELEC\",\"CITY OF NEWARK CH STATION 2\",\"264 S Main St\",\"N/A or None\",\"N/A or None\",2.0,\"N/A or None\",\"N/A or None\",\"ChargePoint Network\",\"http://www.chargepoint.com/\",39.677188,-75.763945,\"J1772\",\"N/A or None\",\"N/A or None\",\"N/A or None\",\"N/A or None\"],[\"ELEC\",\"0063-27W3RD#4LOC\",\"27 West 3rd Street\",\"N/A or None\",\"N/A or None\",1.0,\"N/A or None\",\"N/A or None\",\"SemaCharge Network\",\"https://semaconnect.com/\",39.6589839,-75.564986,\"J1772\",\"$0.30/kWh Energy Fee\",\"N/A or None\",\"N/A or None\",\"N/A or None\"],[\"ELEC\",\"0063-27W3RD#3LOC\",\"27 West 3rd Street\",\"N/A or None\",\"N/A or None\",1.0,\"N/A or None\",\"N/A or None\",\"SemaCharge Network\",\"https://semaconnect.com/\",39.6589839,-75.564986,\"J1772\",\"$0.30/kWh Energy Fee\",\"N/A or None\",\"N/A or None\",\"N/A or None\"],[\"ELEC\",\"CITY OF NEWARK LOT 1 STATION 1\",\"54 E Delaware Ave\",\"N/A or None\",\"N/A or None\",2.0,\"N/A or None\",\"N/A or None\",\"ChargePoint Network\",\"http://www.chargepoint.com/\",39.682557,-75.751242,\"J1772\",\"N/A or None\",\"N/A or None\",\"N/A or None\",\"N/A or None\"],[\"ELEC\",\"CITY OF NEWARK CH STATION 1\",\"250 Elkton Rd\",\"N/A or None\",\"N/A or None\",2.0,\"N/A or None\",\"N/A or None\",\"ChargePoint Network\",\"http://www.chargepoint.com/\",39.67718,-75.764115,\"J1772\",\"N/A or None\",\"N/A or None\",\"N/A or None\",\"N/A or None\"],[\"ELEC\",\"DTCC OWENS STATION 1\",\"21583-21619 Vaughn Rd\",\"N/A or None\",\"N/A or None\",2.0,\"N/A or None\",\"N/A or None\",\"ChargePoint Network\",\"http://www.chargepoint.com/\",38.694812,-75.412253,\"J1772\",\"N/A or None\",\"N/A or None\",\"N/A or None\",\"N/A or None\"],[\"ELEC\",\"DEC EMPLOYEE DEC VISITOR\",\"14198 Sussex Hwy\",\"N/A or None\",\"N/A or None\",2.0,\"N/A or None\",\"N/A or None\",\"ChargePoint Network\",\"http://www.chargepoint.com/\",38.791154,-75.591795,\"J1772\",\"N/A or None\",\"N/A or None\",\"N/A or None\",\"N/A or None\"],[\"ELEC\",\"DEC EMPLOYEE DEC EMPLOYEE 1\",\"14198 Sussex Hwy\",\"N/A or None\",\"N/A or None\",2.0,\"N/A or None\",\"N/A or None\",\"ChargePoint Network\",\"http://www.chargepoint.com/\",38.79114,-75.5918,\"J1772\",\"N/A or None\",\"N/A or None\",\"N/A or None\",\"N/A or None\"],[\"ELEC\",\"NEMOURS PATIENTGARAGE1\",\"1600 Rockland Rd\",\"N/A or None\",\"N/A or None\",2.0,\"N/A or None\",\"N/A or None\",\"ChargePoint Network\",\"http://www.chargepoint.com/\",39.778385,-75.555335,\"J1772\",\"N/A or None\",\"N/A or None\",\"N/A or None\",\"N/A or None\"],[\"ELEC\",\"DEC EMPLOYEE DEC EMPLOYEE 2\",\"14198 Sussex Hwy\",\"N/A or None\",\"N/A or None\",2.0,\"N/A or None\",\"N/A or None\",\"ChargePoint Network\",\"http://www.chargepoint.com/\",38.791039,-75.5918,\"J1772\",\"N/A or None\",\"N/A or None\",\"N/A or None\",\"N/A or None\"],[\"ELEC\",\"BRANCH BRANDYWINE\",\"3 Mt Lebanon Rd\",\"N/A or None\",\"N/A or None\",2.0,\"N/A or None\",\"N/A or None\",\"ChargePoint Network\",\"http://www.chargepoint.com/\",39.80711,-75.55094,\"J1772\",\"N/A or None\",\"N/A or None\",\"N/A or None\",\"N/A or None\"],[\"ELEC\",\"BRANCH CENTRAL\",\"501 W 11th St\",\"N/A or None\",\"N/A or None\",2.0,\"N/A or None\",\"N/A or None\",\"ChargePoint Network\",\"http://www.chargepoint.com/\",39.748745,-75.55178,\"J1772\",\"N/A or None\",\"N/A or None\",\"N/A or None\",\"N/A or None\"],[\"ELEC\",\"ABESSINIO LLC SALESIANUM ST1\",\"1801 N Broom St\",\"N/A or None\",\"N/A or None\",2.0,\"N/A or None\",\"N/A or None\",\"ChargePoint Network\",\"http://www.chargepoint.com/\",39.761063,-75.549416,\"J1772\",\"N/A or None\",\"N/A or None\",\"N/A or None\",\"N/A or None\"],[\"ELEC\",\"DelDOT Construction Office\",\"80 Chapman Road\",\"N/A or None\",\"N/A or None\",2.0,\"N/A or None\",\"N/A or None\",\"SemaCharge Network\",\"https://semaconnect.com/\",39.6660728,-75.6893088,\"J1772\",\"FREE\",\"N/A or None\",\"N/A or None\",\"N/A or None\"],[\"ELEC\",\"High/Spring Street EV Charger\",\"405 High Street\",\"N/A or None\",\"N/A or None\",2.0,\"N/A or None\",\"N/A or None\",\"SemaCharge Network\",\"https://semaconnect.com/\",38.6413834,-75.610232,\"J1772\",\"$1.00/Hr Parking Fee\",\"N/A or None\",\"N/A or None\",\"N/A or None\"],[\"ELEC\",\"DIVER CHEVY EXTERNAL FAST\",\"1301 N Grant Ave\",\"N/A or None\",\"N/A or None\",\"N/A or None\",1.0,\"N/A or None\",\"ChargePoint Network\",\"http://www.chargepoint.com/\",39.757682,-75.568278,\"CHADEMO J1772COMBO\",\"N/A or None\",\"N/A or None\",\"N/A or None\",\"N/A or None\"],[\"ELEC\",\"DE TRANSIT CORP DOVER ADMIN 1\",\"900 Public Safety Blvd\",\"N/A or None\",\"N/A or None\",2.0,\"N/A or None\",\"N/A or None\",\"ChargePoint Network\",\"http://www.chargepoint.com/\",39.149655,-75.507626,\"J1772\",\"N/A or None\",\"N/A or None\",\"N/A or None\",\"N/A or None\"],[\"ELEC\",\"DE TRANSIT CORP DOVER ADMIN 2\",\"900 Public Safety Blvd\",\"N/A or None\",\"N/A or None\",2.0,\"N/A or None\",\"N/A or None\",\"ChargePoint Network\",\"http://www.chargepoint.com/\",39.149731,-75.507665,\"J1772\",\"N/A or None\",\"N/A or None\",\"N/A or None\",\"N/A or None\"],[\"ELEC\",\"0064625DEL#1LOC\",\"625 Delaware Street\",\"N/A or None\",\"N/A or None\",1.0,\"N/A or None\",\"N/A or None\",\"SemaCharge Network\",\"https://semaconnect.com/\",39.6630687,-75.5677546,\"J1772\",\"$0.30/kWh Energy Fee\",\"N/A or None\",\"N/A or None\",\"N/A or None\"],[\"ELEC\",\"0064625DEL#2LOC\",\"625 Delaware Street\",\"N/A or None\",\"N/A or None\",1.0,\"N/A or None\",\"N/A or None\",\"SemaCharge Network\",\"https://semaconnect.com/\",39.6630687,-75.5677546,\"J1772\",\"$0.30/kWh Energy Fee\",\"N/A or None\",\"N/A or None\",\"N/A or None\"],[\"ELEC\",\"DelDOT, Maintenance & Operations - Equipment Management\",\"800 South Bay Road\",\"N/A or None\",\"N/A or None\",2.0,\"N/A or None\",\"N/A or None\",\"SemaCharge Network\",\"https://semaconnect.com/\",39.1486337,-75.5050131,\"J1772\",\"FREE\",\"N/A or None\",\"N/A or None\",\"N/A or None\"],[\"ELEC\",\"Christiana Hospital MAP2 Rear Parking\",\"4735 Ogletown Stanton Rd\",\"N/A or None\",\"N/A or None\",8.0,\"N/A or None\",\"N/A or None\",\"SemaCharge Network\",\"https://semaconnect.com/\",39.6855886,-75.6730825,\"J1772\",\"$0.08/kWh Energy Fee\",\"N/A or None\",\"N/A or None\",\"N/A or None\"],[\"ELEC\",\"Wawa - Tesla Supercharger\",\"22929 Sussex Hwy\",\"N/A or None\",\"N/A or None\",\"N/A or None\",8.0,\"N/A or None\",\"Tesla\",\"https://www.tesla.com/supercharger\",38.658528,-75.592966,\"TESLA\",\"N/A or None\",\"N/A or None\",\"N/A or None\",\"N/A or None\"]],\"hovertemplate\":\"Latitude=%{customdata[10]}<br>Longitude=%{customdata[11]}<br>Fuel Type Code=%{customdata[0]}<br>Station Name=%{customdata[1]}<br>Street Address=%{customdata[2]}<br>Expected Date=%{customdata[3]}<br>EV Level1 EVSE Num=%{customdata[4]}<br>EV Level2 EVSE Num=%{customdata[5]}<br>EV DC Fast Count=%{customdata[6]}<br>EV Other Info=%{customdata[7]}<br>EV Network=%{customdata[8]}<br>EV Network Web=%{customdata[9]}<br>EV Connector Types=%{customdata[12]}<br>EV Pricing=%{customdata[13]}<br>EV Pricing (French)=%{customdata[14]}<br>EV On-Site Renewable Source=%{customdata[15]}<br>Restricted Access=%{customdata[16]}<extra></extra>\",\"lat\":[39.136284,39.663533,39.663533,39.687222,39.687222,39.197334,38.77933,39.302963,39.660766,38.782012,38.734828,38.71841,39.322658,38.715697,38.72345833,39.659548,39.117778,38.927247,38.699176,38.554795,39.306611,38.778332,38.77143,38.59069615,39.77709476,38.74431,39.663509,38.688936,38.77143,38.777089,38.767283,38.714651,39.195256,39.669949,39.817478,39.73022,39.683873,39.714204,39.156331,39.6878859,39.1541941,38.715967,38.714461,39.7812114,38.6128174,38.6128174,39.745531,39.686796,39.757177,39.4381161,39.709324,39.680982,39.679779,39.679419,38.630925,39.197341,39.794553,38.5460507,39.760311,39.2814691,38.712616,38.699191,38.715639,38.718437,38.734782,39.117777,38.554796,38.927238,39.306624,39.760418,39.760344,39.278042,38.546051,39.683249,38.7452862,38.709294,39.479708,39.750062,39.750195,39.750132,39.750097,39.750106,39.750097,39.750208,39.750072,39.750184,39.750203,39.738536,39.738454,38.747838,39.669728,38.747845,39.669657,39.669532,39.669536,39.669665,39.73692,38.716843,38.716904,39.6589839,38.7308284,39.736901,38.991536,38.991578,39.67913115,39.68322968,39.6827039,39.8344052,39.7955835,38.7158098,39.6589839,39.750193,39.70988,39.744655,39.677188,39.6589839,39.6589839,39.682557,39.67718,38.694812,38.791154,38.79114,39.778385,38.791039,39.80711,39.748745,39.761063,39.6660728,38.6413834,39.757682,39.149655,39.149731,39.6630687,39.6630687,39.1486337,39.6855886,38.658528],\"legendgroup\":\"\",\"lon\":[-75.527155,-75.605014,-75.605014,-75.740488,-75.740488,-75.560005,-75.1355,-75.604857,-75.69348611,-75.118769,-75.139183,-75.112641,-75.618039,-75.109848,-75.58873611,-75.753745,-75.51617,-75.417979,-75.400529,-75.555085,-75.606279,-75.134887,-75.137003,-75.12804594,-75.49636646,-75.153308,-75.690168,-75.074622,-75.137003,-75.136507,-75.313513,-75.082394,-75.54727,-75.753275,-75.457259,-75.633325,-75.675077,-75.74402,-75.531106,-75.668995,-75.5256442,-75.088252,-75.091011,-75.5023969,-75.0716849,-75.0716849,-75.546151,-75.737198,-75.567219,-75.7512876,-75.562649,-75.65261,-75.651662,-75.651206,-75.193739,-75.559991,-75.469448,-75.0609093,-75.553089,-75.6221863,-75.103793,-75.400527,-75.109891,-75.112636,-75.139228,-75.516134,-75.555058,-75.417969,-75.606253,-75.553153,-75.553159,-75.587482,-75.060909,-75.617612,-75.1493848,-75.0977516,-75.720734,-75.550017,-75.549941,-75.550067,-75.550194,-75.550145,-75.550046,-75.550117,-75.55009,-75.550231,-75.5501,-75.557733,-75.55765,-75.169207,-75.753251,-75.16918,-75.753234,-75.753194,-75.753155,-75.753186,-75.55211,-75.08242,-75.082466,-75.564986,-75.1316891,-75.552094,-75.44968,-75.449733,-75.65083685,-75.61769485,-75.6156265,-75.5435914,-75.5244855,-75.0793025,-75.564986,-75.550063,-75.56193,-75.548391,-75.763945,-75.564986,-75.564986,-75.751242,-75.764115,-75.412253,-75.591795,-75.5918,-75.555335,-75.5918,-75.55094,-75.55178,-75.549416,-75.6893088,-75.610232,-75.568278,-75.507626,-75.507665,-75.5677546,-75.5677546,-75.5050131,-75.6730825,-75.592966],\"marker\":{\"color\":\"fuchsia\"},\"mode\":\"markers\",\"name\":\"\",\"showlegend\":false,\"subplot\":\"mapbox\",\"type\":\"scattermapbox\"}],                        {\"template\":{\"data\":{\"bar\":[{\"error_x\":{\"color\":\"#2a3f5f\"},\"error_y\":{\"color\":\"#2a3f5f\"},\"marker\":{\"line\":{\"color\":\"#E5ECF6\",\"width\":0.5},\"pattern\":{\"fillmode\":\"overlay\",\"size\":10,\"solidity\":0.2}},\"type\":\"bar\"}],\"barpolar\":[{\"marker\":{\"line\":{\"color\":\"#E5ECF6\",\"width\":0.5},\"pattern\":{\"fillmode\":\"overlay\",\"size\":10,\"solidity\":0.2}},\"type\":\"barpolar\"}],\"carpet\":[{\"aaxis\":{\"endlinecolor\":\"#2a3f5f\",\"gridcolor\":\"white\",\"linecolor\":\"white\",\"minorgridcolor\":\"white\",\"startlinecolor\":\"#2a3f5f\"},\"baxis\":{\"endlinecolor\":\"#2a3f5f\",\"gridcolor\":\"white\",\"linecolor\":\"white\",\"minorgridcolor\":\"white\",\"startlinecolor\":\"#2a3f5f\"},\"type\":\"carpet\"}],\"choropleth\":[{\"colorbar\":{\"outlinewidth\":0,\"ticks\":\"\"},\"type\":\"choropleth\"}],\"contour\":[{\"colorbar\":{\"outlinewidth\":0,\"ticks\":\"\"},\"colorscale\":[[0.0,\"#0d0887\"],[0.1111111111111111,\"#46039f\"],[0.2222222222222222,\"#7201a8\"],[0.3333333333333333,\"#9c179e\"],[0.4444444444444444,\"#bd3786\"],[0.5555555555555556,\"#d8576b\"],[0.6666666666666666,\"#ed7953\"],[0.7777777777777778,\"#fb9f3a\"],[0.8888888888888888,\"#fdca26\"],[1.0,\"#f0f921\"]],\"type\":\"contour\"}],\"contourcarpet\":[{\"colorbar\":{\"outlinewidth\":0,\"ticks\":\"\"},\"type\":\"contourcarpet\"}],\"heatmap\":[{\"colorbar\":{\"outlinewidth\":0,\"ticks\":\"\"},\"colorscale\":[[0.0,\"#0d0887\"],[0.1111111111111111,\"#46039f\"],[0.2222222222222222,\"#7201a8\"],[0.3333333333333333,\"#9c179e\"],[0.4444444444444444,\"#bd3786\"],[0.5555555555555556,\"#d8576b\"],[0.6666666666666666,\"#ed7953\"],[0.7777777777777778,\"#fb9f3a\"],[0.8888888888888888,\"#fdca26\"],[1.0,\"#f0f921\"]],\"type\":\"heatmap\"}],\"heatmapgl\":[{\"colorbar\":{\"outlinewidth\":0,\"ticks\":\"\"},\"colorscale\":[[0.0,\"#0d0887\"],[0.1111111111111111,\"#46039f\"],[0.2222222222222222,\"#7201a8\"],[0.3333333333333333,\"#9c179e\"],[0.4444444444444444,\"#bd3786\"],[0.5555555555555556,\"#d8576b\"],[0.6666666666666666,\"#ed7953\"],[0.7777777777777778,\"#fb9f3a\"],[0.8888888888888888,\"#fdca26\"],[1.0,\"#f0f921\"]],\"type\":\"heatmapgl\"}],\"histogram\":[{\"marker\":{\"pattern\":{\"fillmode\":\"overlay\",\"size\":10,\"solidity\":0.2}},\"type\":\"histogram\"}],\"histogram2d\":[{\"colorbar\":{\"outlinewidth\":0,\"ticks\":\"\"},\"colorscale\":[[0.0,\"#0d0887\"],[0.1111111111111111,\"#46039f\"],[0.2222222222222222,\"#7201a8\"],[0.3333333333333333,\"#9c179e\"],[0.4444444444444444,\"#bd3786\"],[0.5555555555555556,\"#d8576b\"],[0.6666666666666666,\"#ed7953\"],[0.7777777777777778,\"#fb9f3a\"],[0.8888888888888888,\"#fdca26\"],[1.0,\"#f0f921\"]],\"type\":\"histogram2d\"}],\"histogram2dcontour\":[{\"colorbar\":{\"outlinewidth\":0,\"ticks\":\"\"},\"colorscale\":[[0.0,\"#0d0887\"],[0.1111111111111111,\"#46039f\"],[0.2222222222222222,\"#7201a8\"],[0.3333333333333333,\"#9c179e\"],[0.4444444444444444,\"#bd3786\"],[0.5555555555555556,\"#d8576b\"],[0.6666666666666666,\"#ed7953\"],[0.7777777777777778,\"#fb9f3a\"],[0.8888888888888888,\"#fdca26\"],[1.0,\"#f0f921\"]],\"type\":\"histogram2dcontour\"}],\"mesh3d\":[{\"colorbar\":{\"outlinewidth\":0,\"ticks\":\"\"},\"type\":\"mesh3d\"}],\"parcoords\":[{\"line\":{\"colorbar\":{\"outlinewidth\":0,\"ticks\":\"\"}},\"type\":\"parcoords\"}],\"pie\":[{\"automargin\":true,\"type\":\"pie\"}],\"scatter\":[{\"marker\":{\"colorbar\":{\"outlinewidth\":0,\"ticks\":\"\"}},\"type\":\"scatter\"}],\"scatter3d\":[{\"line\":{\"colorbar\":{\"outlinewidth\":0,\"ticks\":\"\"}},\"marker\":{\"colorbar\":{\"outlinewidth\":0,\"ticks\":\"\"}},\"type\":\"scatter3d\"}],\"scattercarpet\":[{\"marker\":{\"colorbar\":{\"outlinewidth\":0,\"ticks\":\"\"}},\"type\":\"scattercarpet\"}],\"scattergeo\":[{\"marker\":{\"colorbar\":{\"outlinewidth\":0,\"ticks\":\"\"}},\"type\":\"scattergeo\"}],\"scattergl\":[{\"marker\":{\"colorbar\":{\"outlinewidth\":0,\"ticks\":\"\"}},\"type\":\"scattergl\"}],\"scattermapbox\":[{\"marker\":{\"colorbar\":{\"outlinewidth\":0,\"ticks\":\"\"}},\"type\":\"scattermapbox\"}],\"scatterpolar\":[{\"marker\":{\"colorbar\":{\"outlinewidth\":0,\"ticks\":\"\"}},\"type\":\"scatterpolar\"}],\"scatterpolargl\":[{\"marker\":{\"colorbar\":{\"outlinewidth\":0,\"ticks\":\"\"}},\"type\":\"scatterpolargl\"}],\"scatterternary\":[{\"marker\":{\"colorbar\":{\"outlinewidth\":0,\"ticks\":\"\"}},\"type\":\"scatterternary\"}],\"surface\":[{\"colorbar\":{\"outlinewidth\":0,\"ticks\":\"\"},\"colorscale\":[[0.0,\"#0d0887\"],[0.1111111111111111,\"#46039f\"],[0.2222222222222222,\"#7201a8\"],[0.3333333333333333,\"#9c179e\"],[0.4444444444444444,\"#bd3786\"],[0.5555555555555556,\"#d8576b\"],[0.6666666666666666,\"#ed7953\"],[0.7777777777777778,\"#fb9f3a\"],[0.8888888888888888,\"#fdca26\"],[1.0,\"#f0f921\"]],\"type\":\"surface\"}],\"table\":[{\"cells\":{\"fill\":{\"color\":\"#EBF0F8\"},\"line\":{\"color\":\"white\"}},\"header\":{\"fill\":{\"color\":\"#C8D4E3\"},\"line\":{\"color\":\"white\"}},\"type\":\"table\"}]},\"layout\":{\"annotationdefaults\":{\"arrowcolor\":\"#2a3f5f\",\"arrowhead\":0,\"arrowwidth\":1},\"autotypenumbers\":\"strict\",\"coloraxis\":{\"colorbar\":{\"outlinewidth\":0,\"ticks\":\"\"}},\"colorscale\":{\"diverging\":[[0,\"#8e0152\"],[0.1,\"#c51b7d\"],[0.2,\"#de77ae\"],[0.3,\"#f1b6da\"],[0.4,\"#fde0ef\"],[0.5,\"#f7f7f7\"],[0.6,\"#e6f5d0\"],[0.7,\"#b8e186\"],[0.8,\"#7fbc41\"],[0.9,\"#4d9221\"],[1,\"#276419\"]],\"sequential\":[[0.0,\"#0d0887\"],[0.1111111111111111,\"#46039f\"],[0.2222222222222222,\"#7201a8\"],[0.3333333333333333,\"#9c179e\"],[0.4444444444444444,\"#bd3786\"],[0.5555555555555556,\"#d8576b\"],[0.6666666666666666,\"#ed7953\"],[0.7777777777777778,\"#fb9f3a\"],[0.8888888888888888,\"#fdca26\"],[1.0,\"#f0f921\"]],\"sequentialminus\":[[0.0,\"#0d0887\"],[0.1111111111111111,\"#46039f\"],[0.2222222222222222,\"#7201a8\"],[0.3333333333333333,\"#9c179e\"],[0.4444444444444444,\"#bd3786\"],[0.5555555555555556,\"#d8576b\"],[0.6666666666666666,\"#ed7953\"],[0.7777777777777778,\"#fb9f3a\"],[0.8888888888888888,\"#fdca26\"],[1.0,\"#f0f921\"]]},\"colorway\":[\"#636efa\",\"#EF553B\",\"#00cc96\",\"#ab63fa\",\"#FFA15A\",\"#19d3f3\",\"#FF6692\",\"#B6E880\",\"#FF97FF\",\"#FECB52\"],\"font\":{\"color\":\"#2a3f5f\"},\"geo\":{\"bgcolor\":\"white\",\"lakecolor\":\"white\",\"landcolor\":\"#E5ECF6\",\"showlakes\":true,\"showland\":true,\"subunitcolor\":\"white\"},\"hoverlabel\":{\"align\":\"left\"},\"hovermode\":\"closest\",\"mapbox\":{\"style\":\"light\"},\"paper_bgcolor\":\"white\",\"plot_bgcolor\":\"#E5ECF6\",\"polar\":{\"angularaxis\":{\"gridcolor\":\"white\",\"linecolor\":\"white\",\"ticks\":\"\"},\"bgcolor\":\"#E5ECF6\",\"radialaxis\":{\"gridcolor\":\"white\",\"linecolor\":\"white\",\"ticks\":\"\"}},\"scene\":{\"xaxis\":{\"backgroundcolor\":\"#E5ECF6\",\"gridcolor\":\"white\",\"gridwidth\":2,\"linecolor\":\"white\",\"showbackground\":true,\"ticks\":\"\",\"zerolinecolor\":\"white\"},\"yaxis\":{\"backgroundcolor\":\"#E5ECF6\",\"gridcolor\":\"white\",\"gridwidth\":2,\"linecolor\":\"white\",\"showbackground\":true,\"ticks\":\"\",\"zerolinecolor\":\"white\"},\"zaxis\":{\"backgroundcolor\":\"#E5ECF6\",\"gridcolor\":\"white\",\"gridwidth\":2,\"linecolor\":\"white\",\"showbackground\":true,\"ticks\":\"\",\"zerolinecolor\":\"white\"}},\"shapedefaults\":{\"line\":{\"color\":\"#2a3f5f\"}},\"ternary\":{\"aaxis\":{\"gridcolor\":\"white\",\"linecolor\":\"white\",\"ticks\":\"\"},\"baxis\":{\"gridcolor\":\"white\",\"linecolor\":\"white\",\"ticks\":\"\"},\"bgcolor\":\"#E5ECF6\",\"caxis\":{\"gridcolor\":\"white\",\"linecolor\":\"white\",\"ticks\":\"\"}},\"title\":{\"x\":0.05},\"xaxis\":{\"automargin\":true,\"gridcolor\":\"white\",\"linecolor\":\"white\",\"ticks\":\"\",\"title\":{\"standoff\":15},\"zerolinecolor\":\"white\",\"zerolinewidth\":2},\"yaxis\":{\"automargin\":true,\"gridcolor\":\"white\",\"linecolor\":\"white\",\"ticks\":\"\",\"title\":{\"standoff\":15},\"zerolinecolor\":\"white\",\"zerolinewidth\":2}}},\"mapbox\":{\"domain\":{\"x\":[0.0,1.0],\"y\":[0.0,1.0]},\"center\":{\"lat\":39.30239464722626,\"lon\":-75.47672806875912},\"zoom\":3,\"style\":\"open-street-map\"},\"legend\":{\"tracegroupgap\":0},\"margin\":{\"t\":0,\"r\":0,\"l\":0,\"b\":0},\"height\":800},                        {\"responsive\": true}                    ).then(function(){\n",
              "                            \n",
              "var gd = document.getElementById('09e76700-5fc7-456b-88c5-64e9b393b47f');\n",
              "var x = new MutationObserver(function (mutations, observer) {{\n",
              "        var display = window.getComputedStyle(gd).display;\n",
              "        if (!display || display === 'none') {{\n",
              "            console.log([gd, 'removed!']);\n",
              "            Plotly.purge(gd);\n",
              "            observer.disconnect();\n",
              "        }}\n",
              "}});\n",
              "\n",
              "// Listen for the removal of the full notebook cells\n",
              "var notebookContainer = gd.closest('#notebook-container');\n",
              "if (notebookContainer) {{\n",
              "    x.observe(notebookContainer, {childList: true});\n",
              "}}\n",
              "\n",
              "// Listen for the clearing of the current output cell\n",
              "var outputEl = gd.closest('.output');\n",
              "if (outputEl) {{\n",
              "    x.observe(outputEl, {childList: true});\n",
              "}}\n",
              "\n",
              "                        })                };                            </script>        </div>\n",
              "</body>\n",
              "</html>"
            ]
          },
          "metadata": {}
        }
      ]
    }
  ]
}